{
  "nbformat": 4,
  "nbformat_minor": 0,
  "metadata": {
    "colab": {
      "provenance": [],
      "authorship_tag": "ABX9TyOW5E5M5mWUyIem6mzxEJ9B",
      "include_colab_link": true
    },
    "kernelspec": {
      "name": "python3",
      "display_name": "Python 3"
    },
    "language_info": {
      "name": "python"
    }
  },
  "cells": [
    {
      "cell_type": "markdown",
      "metadata": {
        "id": "view-in-github",
        "colab_type": "text"
      },
      "source": [
        "<a href=\"https://colab.research.google.com/github/Charvika16/AIML_2303A52448/blob/main/2303A52448(Ai_2).ipynb\" target=\"_parent\"><img src=\"https://colab.research.google.com/assets/colab-badge.svg\" alt=\"Open In Colab\"/></a>"
      ]
    },
    {
      "cell_type": "markdown",
      "source": [
        "\n",
        "**Implement Breadth First, Depth First and A* Search Algorithms**\n",
        "\n"
      ],
      "metadata": {
        "id": "UPrAhW_gxz4k"
      }
    },
    {
      "cell_type": "markdown",
      "source": [
        "*Part 1 – Implement Breadth First Search Algorithm using a Queue*"
      ],
      "metadata": {
        "id": "sf_E0PutzMOs"
      }
    },
    {
      "cell_type": "code",
      "source": [
        "from queue import Queue\n"
      ],
      "metadata": {
        "id": "IjasOI3xzjXN"
      },
      "execution_count": 46,
      "outputs": []
    },
    {
      "cell_type": "code",
      "source": [
        "graph={0:[2,3], 1:[3,1,2], 2:[4,3,5], 3:[3,5,2], 4:[5,4,3], 5:[6,3], 6:[]}\n",
        "print(\"The adjacency list representing the graph: \")\n",
        "print(graph)\n"
      ],
      "metadata": {
        "colab": {
          "base_uri": "https://localhost:8080/"
        },
        "id": "S1gp47kR4RKK",
        "outputId": "7e5496ec-5aa2-450c-8fdf-478573429d36"
      },
      "execution_count": 3,
      "outputs": [
        {
          "output_type": "stream",
          "name": "stdout",
          "text": [
            "The adjacency list representing the graph: \n",
            "{0: [2, 3], 1: [3, 1, 2], 2: [4, 3, 5], 3: [3, 5, 2], 4: [5, 4, 3], 5: [6, 3], 6: []}\n"
          ]
        }
      ]
    },
    {
      "cell_type": "code",
      "source": [
        "def bf(graph, source):\n",
        "  q=Queue()\n",
        "  visited_vertex= set()\n",
        "  q.put(source)\n",
        "  visited_vertex.update({0})\n",
        "  while not q.empty():\n",
        "    current_vertex=q.get()\n",
        "    print(current_vertex, end=\"--> \")\n",
        "    for i in graph[current_vertex]:\n",
        "      if i not in visited_vertex:\n",
        "        visited_vertex.update({i})\n",
        "        q.put(i)\n",
        "        visited_vertex.update({i})\n"
      ],
      "metadata": {
        "id": "7cMhH9Ht5nfV"
      },
      "execution_count": 4,
      "outputs": []
    },
    {
      "cell_type": "code",
      "source": [
        "print(\"bfs traversal of graph with the source 0 is:\")\n",
        "bf(graph,0)"
      ],
      "metadata": {
        "colab": {
          "base_uri": "https://localhost:8080/"
        },
        "id": "YErgP_uU9Cit",
        "outputId": "d3c32ff1-b12e-425d-9a04-a0366ba239ca"
      },
      "execution_count": 5,
      "outputs": [
        {
          "output_type": "stream",
          "name": "stdout",
          "text": [
            "bfs traversal of graph with the source 0 is:\n",
            "0--> 2--> 3--> 4--> 5--> 6--> "
          ]
        }
      ]
    },
    {
      "cell_type": "markdown",
      "source": [
        "**Part 2 – Implement Depth First Search Algorithm using a Stack**"
      ],
      "metadata": {
        "id": "FSQ5dSdS_5EQ"
      }
    },
    {
      "cell_type": "code",
      "source": [
        "graph_1={\n",
        "    'A':['B','S'],\n",
        "    'B':['A'],\n",
        "    'C':['D','E','F','S'],\n",
        "    'D':['C'],\n",
        "    'E':['C','H'],\n",
        "    'F':['C','G'],\n",
        "    'G':['F','S'],\n",
        "    'H':['E','G'],\n",
        "    'S':['A','C','G']\n",
        "}"
      ],
      "metadata": {
        "id": "k0SRuGgifrIE"
      },
      "execution_count": 6,
      "outputs": []
    },
    {
      "cell_type": "code",
      "source": [
        "def df(graph,node,visited):\n",
        "  if node not in visited:\n",
        "    visited.append(node)\n",
        "    for n in graph[node]:\n",
        "      df(graph,n,visited)\n",
        "  return visited"
      ],
      "metadata": {
        "id": "D_jP3CHAgUz9"
      },
      "execution_count": 7,
      "outputs": []
    },
    {
      "cell_type": "code",
      "source": [
        "visited=df(graph_1,'A',[])\n",
        "visited"
      ],
      "metadata": {
        "colab": {
          "base_uri": "https://localhost:8080/"
        },
        "id": "Bx48LjAlgzcf",
        "outputId": "4bffa14e-3d7f-40a5-881d-3c48dcc1da99"
      },
      "execution_count": 8,
      "outputs": [
        {
          "output_type": "execute_result",
          "data": {
            "text/plain": [
              "['A', 'B', 'S', 'C', 'D', 'E', 'H', 'G', 'F']"
            ]
          },
          "metadata": {},
          "execution_count": 8
        }
      ]
    },
    {
      "cell_type": "markdown",
      "source": [
        "**Part 3 – Implement A* Algorithm using Numpy**"
      ],
      "metadata": {
        "id": "av5w635shOoF"
      }
    },
    {
      "cell_type": "code",
      "source": [
        "from copy import deepcopy\n",
        "import numpy as np\n",
        "import time"
      ],
      "metadata": {
        "id": "HoqfWeGfhT5X"
      },
      "execution_count": 87,
      "outputs": []
    },
    {
      "cell_type": "code",
      "source": [
        "def Solution(state):\n",
        "  sol=np.array([],int).reshape(-1,9)\n",
        "  c=len(state)-1\n",
        "  while c!=-1:\n",
        "    sol=np.insert(sol,0,state[c]['puzzle'],0)\n",
        "    c=state[c]['parent']\n",
        "  return sol.reshape(-1,3,3)"
      ],
      "metadata": {
        "id": "_c9wn_cXhevR"
      },
      "execution_count": 150,
      "outputs": []
    },
    {
      "cell_type": "code",
      "source": [
        "def all(check_array):\n",
        "  set=[]\n",
        "  for it in set:\n",
        "    for chech_array in it:\n",
        "      return 1\n",
        "    else:\n",
        "      return 0"
      ],
      "metadata": {
        "id": "DXZXIJDyi7Rs"
      },
      "execution_count": 89,
      "outputs": []
    },
    {
      "cell_type": "code",
      "source": [
        "def misplaced_tiles(puzzle,goal):\n",
        "    mscost = np.sum(puzzle != goal) - 1\n",
        "    return mscost if mscost > 0 else 0"
      ],
      "metadata": {
        "id": "IsVjn2VdYwUr"
      },
      "execution_count": 90,
      "outputs": []
    },
    {
      "cell_type": "code",
      "source": [
        "def coordinates(puzzle):\n",
        "    pos = np.array(range(9))\n",
        "    for p, q in enumerate(puzzle):\n",
        "        pos[q] = p\n",
        "    return pos\n"
      ],
      "metadata": {
        "id": "x_1Hg2AeY1fB"
      },
      "execution_count": 91,
      "outputs": []
    },
    {
      "cell_type": "code",
      "source": [
        "def evaluvate_misplaced(puzzle, goal):\n",
        "    steps = np.array([('up', [0, 1, 2], -3),('down', [6, 7, 8],  3),('left', [0, 3, 6], -1),('right', [2, 5, 8],  1)],\n",
        "                dtype =  [('move',  str, 1),('position', list),('head', int)])\n",
        "    dstate = [('puzzle',  list),('parent', int),('gn',  int),('hn',  int)]\n",
        "    costg = coordinates(goal)\n",
        "    parent = -1\n",
        "    gn = 0\n",
        "    hn = misplaced_tiles(coordinates(puzzle), costg)\n",
        "    state = np.array([(puzzle, parent, gn, hn)], dstate)\n",
        "    dpriority = [('position', int),('fn', int)]\n",
        "    priority = np.array([(0, hn)], dpriority)\n",
        "    while 1:\n",
        "        priority = np.sort(priority, kind='mergesort', order=['fn', 'position'])\n",
        "        position, fn = priority[0]\n",
        "        priority = np.delete(priority, 0, 0)\n",
        "        puzzle, parent, gn, hn = state[position]\n",
        "        puzzle = np.array(puzzle)\n",
        "        blank = int(np.where(puzzle == 0)[0])\n",
        "        gn= gn + 1\n",
        "        a = 1\n",
        "        start_time = time.time()\n",
        "        for s in steps:\n",
        "            a = a + 1\n",
        "            if blank not in s['position']:\n",
        "                openstate = deepcopy(puzzle)\n",
        "                openstate[blank], openstate[blank + s['head']] = openstate[blank + s['head']], openstate[blank]\n",
        "                if ~(np.all(list(state['puzzle']) == openstate, 1)).any():\n",
        "                    end_time = time.time()\n",
        "                    if (( end_time - start_time ) > 2):\n",
        "                        print(\"  8 puzzle is unsolvable \\n\")\n",
        "                        break\n",
        "                    hn = misplaced_tiles(coordinates(openstate), costg)\n",
        "                    q = np.array([(openstate, position, gn, hn)], dstate)\n",
        "                    state = np.append(state, q, 0)\n",
        "                    fn = gn + hn\n",
        "                    q = np.array([(len(state) - 1, fn)], dpriority)\n",
        "                    priority = np.append(priority, q, 0)\n",
        "                    if np.array_equal(openstate, goal):\n",
        "                        print('  8 puzzle is solvable \\n')\n",
        "                        return state, len(priority)\n",
        "\n",
        "\n"
      ],
      "metadata": {
        "id": "4lZHWkVRsThJ"
      },
      "execution_count": 191,
      "outputs": []
    },
    {
      "cell_type": "code",
      "source": [
        "puzzle=[]\n",
        "puzzle.append(2)\n",
        "puzzle.append(8)\n",
        "puzzle.append(3)\n",
        "puzzle.append(7)\n",
        "puzzle.append(1)\n",
        "puzzle.append(4)\n",
        "puzzle.append(0)\n",
        "puzzle.append(6)\n",
        "puzzle.append(5)"
      ],
      "metadata": {
        "id": "VA2rapmjeX8e"
      },
      "execution_count": 134,
      "outputs": []
    },
    {
      "cell_type": "code",
      "source": [
        "goal=[]\n",
        "goal.append(1)\n",
        "goal.append(2)\n",
        "goal.append(3)\n",
        "goal.append(8)\n",
        "goal.append(0)\n",
        "goal.append(4)\n",
        "goal.append(7)\n",
        "goal.append(6)\n",
        "goal.append(5)"
      ],
      "metadata": {
        "id": "TJXSWcUQeu9Y"
      },
      "execution_count": 135,
      "outputs": []
    },
    {
      "cell_type": "code",
      "source": [
        "state,visited=evaluvate_misplaced(puzzle,goal)\n",
        "path=Solution(state)\n",
        "print(str(path).replace('[',' ').replace(']',''))\n",
        "Totalmoves=len(path)-1\n",
        "print('\\nTotal number of moves required: ',Totalmoves)\n",
        "visited=len(state)-visited\n",
        "print('Total number of visited states: ',visited,\"\\n\")"
      ],
      "metadata": {
        "colab": {
          "base_uri": "https://localhost:8080/"
        },
        "id": "NatEJRJgfAHL",
        "outputId": "9df8b4d3-46a7-4ab9-85fd-96069f4e6fde"
      },
      "execution_count": 192,
      "outputs": [
        {
          "output_type": "stream",
          "name": "stdout",
          "text": [
            "  8 puzzle is solvable \n",
            "\n",
            "   2 8 3\n",
            "   7 1 4\n",
            "   0 6 5\n",
            "\n",
            "   2 8 3\n",
            "   0 1 4\n",
            "   7 6 5\n",
            "\n",
            "   2 8 3\n",
            "   1 0 4\n",
            "   7 6 5\n",
            "\n",
            "   2 0 3\n",
            "   1 8 4\n",
            "   7 6 5\n",
            "\n",
            "   0 2 3\n",
            "   1 8 4\n",
            "   7 6 5\n",
            "\n",
            "   1 2 3\n",
            "   0 8 4\n",
            "   7 6 5\n",
            "\n",
            "   1 2 3\n",
            "   8 0 4\n",
            "   7 6 5\n",
            "\n",
            "Total number of moves required:  6\n",
            "Total number of visited states:  11 \n",
            "\n"
          ]
        },
        {
          "output_type": "stream",
          "name": "stderr",
          "text": [
            "<ipython-input-191-0e5635a0353e>:18: DeprecationWarning: Conversion of an array with ndim > 0 to a scalar is deprecated, and will error in future. Ensure you extract a single element from your array before performing this operation. (Deprecated NumPy 1.25.)\n",
            "  blank = int(np.where(puzzle == 0)[0])\n"
          ]
        }
      ]
    }
  ]
}